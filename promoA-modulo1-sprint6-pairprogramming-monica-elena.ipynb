{
 "cells": [
  {
   "cell_type": "markdown",
   "metadata": {},
   "source": [
    "# Pair programming Funciones"
   ]
  },
  {
   "cell_type": "markdown",
   "metadata": {},
   "source": [
    "1. Calcular el área de un círculo.\n",
    "\n",
    "* Descripción: Crea una función llamada `calcular_area_circulo` que tome el radio como parámetro y devuelva el área del círculo.\n",
    "\n",
    "* NOTA: Os dejamos aquí un link para recordar comose calculaba el área de un círculo. https://blogs.ua.es/matesfacil/secundaria-geometria/area-del-circulo/"
   ]
  },
  {
   "cell_type": "code",
   "execution_count": 7,
   "metadata": {},
   "outputs": [
    {
     "name": "stdout",
     "output_type": "stream",
     "text": [
      "El area del circulo con radio 5 es 78.53999999999999\n"
     ]
    }
   ],
   "source": [
    "# Area es igual a pi por radio al cuadrado\n",
    "\n",
    "def calcular_area_circulo(radio):\n",
    "\n",
    "    area = 3.1416 * (radio ** 2)\n",
    "    return area\n",
    "\n",
    "resultado_area_circulo = calcular_area_circulo(5)\n",
    "print(f'El area del circulo con radio 5 es {resultado_area_circulo}')"
   ]
  },
  {
   "cell_type": "code",
   "execution_count": 3,
   "metadata": {},
   "outputs": [
    {
     "name": "stdout",
     "output_type": "stream",
     "text": [
      "El area del circulo con radio 5 es 78.54\n"
     ]
    }
   ],
   "source": [
    "# Area es igual a pi por radio al cuadrado\n",
    "\n",
    "import math\n",
    "\n",
    "def calcular_area_circulo(radio):\n",
    "\n",
    "    area = math.pi * radio ** 2\n",
    "    return area\n",
    "\n",
    "resultado_area_circulo = calcular_area_circulo(5)\n",
    "print(f'El area del circulo con radio 5 es {round(resultado_area_circulo, 2)}')"
   ]
  },
  {
   "cell_type": "markdown",
   "metadata": {},
   "source": [
    "2. Contar la cantidad de caracteres en una cadena.\n",
    "\n",
    "* Descripción: Crea una función llamada `contar_caracteres` que tome una cadena como parámetro y devuelva la cantidad de caracteres que contiene."
   ]
  },
  {
   "cell_type": "code",
   "execution_count": 8,
   "metadata": {},
   "outputs": [
    {
     "name": "stdout",
     "output_type": "stream",
     "text": [
      "La cantidad de caracteres es 21\n"
     ]
    }
   ],
   "source": [
    "def contar_caracteres(cadena):\n",
    "    caracteres = len(cadena)\n",
    "    return caracteres\n",
    "\n",
    "resultado_caracteres = contar_caracteres(\"Hola Moni, Hola Elena\")\n",
    "print('La cantidad de caracteres es', resultado_caracteres)"
   ]
  },
  {
   "cell_type": "code",
   "execution_count": 10,
   "metadata": {},
   "outputs": [
    {
     "name": "stdout",
     "output_type": "stream",
     "text": [
      "La cantidad de caracteres es 6\n"
     ]
    }
   ],
   "source": [
    "resultado_caracteres2 = contar_caracteres(\"patata\")\n",
    "print('La cantidad de caracteres es', resultado_caracteres2)"
   ]
  },
  {
   "cell_type": "markdown",
   "metadata": {},
   "source": [
    "3. Determinar si una cadena es un palíndromo.\n",
    "\n",
    "* Descripción: Crea una función llamada `es_palindromo` que tome una cadena como parámetro y devuelva `True` si es un palíndromo, o `False` si no lo es.\n",
    "\n",
    "* ¿Qué es un palíndromo?.\n",
    "https://dle.rae.es/pal%C3%ADndromo"
   ]
  },
  {
   "cell_type": "code",
   "execution_count": 18,
   "metadata": {},
   "outputs": [
    {
     "name": "stdout",
     "output_type": "stream",
     "text": [
      "True\n"
     ]
    }
   ],
   "source": [
    "def es_palindromo(cadena2):\n",
    "\n",
    "    palindromo = cadena2 == cadena2[::-1]\n",
    "    return palindromo\n",
    "\n",
    "resultado_palindromo = es_palindromo('anilina')\n",
    "print(resultado_palindromo)"
   ]
  },
  {
   "cell_type": "code",
   "execution_count": 15,
   "metadata": {},
   "outputs": [
    {
     "name": "stdout",
     "output_type": "stream",
     "text": [
      "arbalapp\n"
     ]
    }
   ],
   "source": [
    "# buscar como se haría con reverse si que se complique tanto\n",
    "\n",
    "cadena3= 'palabra'\n",
    "\n",
    "print(''.join(list(reversed(cadena3))))"
   ]
  },
  {
   "cell_type": "markdown",
   "metadata": {},
   "source": [
    "4. Calcular el promedio de una lista de números.\n",
    "\n",
    "* Descripción: Crea una función llamada `calcular_promedio` que tome una lista de números como parámetro y devuelva el promedio de todos sus elementos."
   ]
  },
  {
   "cell_type": "code",
   "execution_count": 23,
   "metadata": {},
   "outputs": [
    {
     "name": "stdout",
     "output_type": "stream",
     "text": [
      "18.5\n"
     ]
    }
   ],
   "source": [
    "\n",
    "def calcular_promedio(lista_num):\n",
    "\n",
    "    suma = 0\n",
    "\n",
    "    #for num in lista_num:\n",
    "    #    suma += num\n",
    "    \n",
    "    suma = sum(lista_num)\n",
    "    \n",
    "    promedio = suma / len(lista_num)\n",
    "\n",
    "    return promedio\n",
    "\n",
    "resultado_promedio = calcular_promedio([1,9,12,52])\n",
    "print(resultado_promedio)"
   ]
  },
  {
   "cell_type": "markdown",
   "metadata": {},
   "source": [
    "5. Calcular el interés compuesto.\n",
    "\n",
    "* Descripción: Crea una función llamada `calcular_interes_compuesto` que tome el capital inicial, la tasa de interés y el número de períodos como parámetros y devuelva el beneficio final después del interés compuesto."
   ]
  },
  {
   "cell_type": "code",
   "execution_count": null,
   "metadata": {},
   "outputs": [],
   "source": [
    "FV = P * (((1 + ((r / 100.0) / n)) ** (n * y)))\n",
    "\n",
    "# beneficio final = capital inicial * ( 1 + interés/100) ^ numero de periodos"
   ]
  },
  {
   "cell_type": "markdown",
   "metadata": {},
   "source": [
    "6. Validar si una palabra es un anagrama de otra.\n",
    "\n",
    "* Descripción: Crea una función llamada `es_anagrama` que tome dos palabras como parámetros y devuelva `True` si una es un anagrama de la otra, o `False` si no lo es.\n",
    "\n",
    "* ¿Qué es un anagrama?. https://dle.rae.es/anagrama"
   ]
  },
  {
   "cell_type": "code",
   "execution_count": null,
   "metadata": {},
   "outputs": [],
   "source": []
  },
  {
   "cell_type": "markdown",
   "metadata": {},
   "source": [
    "7. Validar si una cadena de texto es un isograma.\n",
    "\n",
    "* Descripción: Crea una función llamada `es_isograma` que tome una cadena de texto como parámetro y devuelva `True` si es un isograma. En caso contrario, devuelve `False`.\n",
    "\n",
    "* ¿Qué es un isograma? Una palabra que no contiene letras repetidas."
   ]
  },
  {
   "cell_type": "code",
   "execution_count": null,
   "metadata": {},
   "outputs": [],
   "source": []
  },
  {
   "cell_type": "markdown",
   "metadata": {},
   "source": [
    "8. Concatenar múltiples cadenas de texto\n",
    "\n",
    "* Descripción: Crea una función llamada `concatenar_cadenas` que tome una cantidad variable de cadenas de texto como argumentos y devuelva una única cadena que contenga la concatenación de todas las cadenas ingresadas."
   ]
  },
  {
   "cell_type": "code",
   "execution_count": null,
   "metadata": {},
   "outputs": [],
   "source": []
  },
  {
   "cell_type": "markdown",
   "metadata": {},
   "source": [
    "9. Crear un diccionario con información de una persona.\n",
    "\n",
    "* Descripción: Crea una función llamada `crear_persona` que tome como argumentos clave-valor los datos de una persona, como nombre, edad, ciudad, etc., y devuelva un diccionario con toda la información ingresada."
   ]
  },
  {
   "cell_type": "code",
   "execution_count": null,
   "metadata": {},
   "outputs": [],
   "source": []
  },
  {
   "cell_type": "markdown",
   "metadata": {},
   "source": [
    "10. Encontrar el número que falta en una lista ordenada de números consecutivos.\n",
    "\n",
    "* Descripción: Crea una función llamada `encontrar_numero_faltante` que tome una lista de números consecutivos (del 1 al N, sin repetir) con un número faltante y devuelva ese número faltante."
   ]
  },
  {
   "cell_type": "code",
   "execution_count": null,
   "metadata": {},
   "outputs": [],
   "source": []
  },
  {
   "cell_type": "markdown",
   "metadata": {},
   "source": [
    "11. Encontrar el elemento duplicado en una lista de números.\n",
    "\n",
    "* Descripción: Crea una función llamada `encontrar_duplicado` que tome una lista de números enteros y devuelva el elemento que está duplicado en la lista."
   ]
  },
  {
   "cell_type": "code",
   "execution_count": null,
   "metadata": {},
   "outputs": [],
   "source": []
  }
 ],
 "metadata": {
  "kernelspec": {
   "display_name": "Python 3",
   "language": "python",
   "name": "python3"
  },
  "language_info": {
   "codemirror_mode": {
    "name": "ipython",
    "version": 3
   },
   "file_extension": ".py",
   "mimetype": "text/x-python",
   "name": "python",
   "nbconvert_exporter": "python",
   "pygments_lexer": "ipython3",
   "version": "3.6.9"
  }
 },
 "nbformat": 4,
 "nbformat_minor": 2
}
