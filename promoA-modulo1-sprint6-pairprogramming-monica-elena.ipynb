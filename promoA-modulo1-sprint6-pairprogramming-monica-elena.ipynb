{
 "cells": [
  {
   "cell_type": "markdown",
   "metadata": {},
   "source": [
    "# Pair programming Funciones"
   ]
  },
  {
   "cell_type": "markdown",
   "metadata": {},
   "source": [
    "1. Calcular el área de un círculo.\n",
    "\n",
    "* Descripción: Crea una función llamada `calcular_area_circulo` que tome el radio como parámetro y devuelva el área del círculo.\n",
    "\n",
    "* NOTA: Os dejamos aquí un link para recordar comose calculaba el área de un círculo. https://blogs.ua.es/matesfacil/secundaria-geometria/area-del-circulo/"
   ]
  },
  {
   "cell_type": "code",
   "execution_count": 7,
   "metadata": {},
   "outputs": [
    {
     "name": "stdout",
     "output_type": "stream",
     "text": [
      "El area del circulo con radio 5 es 78.53999999999999\n"
     ]
    }
   ],
   "source": [
    "# Area es igual a pi por radio al cuadrado\n",
    "\n",
    "def calcular_area_circulo(radio):\n",
    "\n",
    "    area = 3.1416 * (radio ** 2)\n",
    "    return area\n",
    "\n",
    "resultado_area_circulo = calcular_area_circulo(5)\n",
    "print(f'El area del circulo con radio 5 es {resultado_area_circulo}')"
   ]
  },
  {
   "cell_type": "code",
   "execution_count": 3,
   "metadata": {},
   "outputs": [
    {
     "name": "stdout",
     "output_type": "stream",
     "text": [
      "El area del circulo con radio 5 es 78.54\n"
     ]
    }
   ],
   "source": [
    "# Importando librería\n",
    "\n",
    "import math\n",
    "\n",
    "def calcular_area_circulo(radio):\n",
    "\n",
    "    area = math.pi * radio ** 2\n",
    "    return area\n",
    "\n",
    "resultado_area_circulo = calcular_area_circulo(5)\n",
    "print(f'El area del circulo con radio 5 es {round(resultado_area_circulo, 2)}')"
   ]
  },
  {
   "cell_type": "markdown",
   "metadata": {},
   "source": [
    "2. Contar la cantidad de caracteres en una cadena.\n",
    "\n",
    "* Descripción: Crea una función llamada `contar_caracteres` que tome una cadena como parámetro y devuelva la cantidad de caracteres que contiene."
   ]
  },
  {
   "cell_type": "code",
   "execution_count": 8,
   "metadata": {},
   "outputs": [
    {
     "name": "stdout",
     "output_type": "stream",
     "text": [
      "La cantidad de caracteres es 21\n"
     ]
    }
   ],
   "source": [
    "def contar_caracteres(cadena):\n",
    "    caracteres = len(cadena)\n",
    "    return caracteres\n",
    "\n",
    "resultado_caracteres = contar_caracteres(\"Hola Moni, Hola Elena\")\n",
    "print('La cantidad de caracteres es', resultado_caracteres)"
   ]
  },
  {
   "cell_type": "code",
   "execution_count": 10,
   "metadata": {},
   "outputs": [
    {
     "name": "stdout",
     "output_type": "stream",
     "text": [
      "La cantidad de caracteres es 6\n"
     ]
    }
   ],
   "source": [
    "resultado_caracteres2 = contar_caracteres(\"patata\")\n",
    "print('La cantidad de caracteres es', resultado_caracteres2)"
   ]
  },
  {
   "cell_type": "markdown",
   "metadata": {},
   "source": [
    "3. Determinar si una cadena es un palíndromo.\n",
    "\n",
    "* Descripción: Crea una función llamada `es_palindromo` que tome una cadena como parámetro y devuelva `True` si es un palíndromo, o `False` si no lo es.\n",
    "\n",
    "* ¿Qué es un palíndromo?.\n",
    "https://dle.rae.es/pal%C3%ADndromo"
   ]
  },
  {
   "cell_type": "code",
   "execution_count": 13,
   "metadata": {},
   "outputs": [
    {
     "name": "stdout",
     "output_type": "stream",
     "text": [
      "True\n"
     ]
    }
   ],
   "source": [
    "def es_palindromo(cadena2):\n",
    "\n",
    "    # como me pide que sea una funcion que funcione para cadenas, no solo palabras, he de suprimir los espacios\n",
    "    cadena2_limpia = cadena2.replace(' ', '')\n",
    "\n",
    "    palindromo = (cadena2_limpia == cadena2_limpia[::-1])\n",
    "    return palindromo\n",
    "\n",
    "resultado_palindromo = es_palindromo('anilina')\n",
    "print(resultado_palindromo)"
   ]
  },
  {
   "cell_type": "code",
   "execution_count": 15,
   "metadata": {},
   "outputs": [
    {
     "name": "stdout",
     "output_type": "stream",
     "text": [
      "arbalapp\n"
     ]
    }
   ],
   "source": [
    "# buscar como se haría con reverse si que se complique tanto\n",
    "\n",
    "cadena3= 'palabra'\n",
    "\n",
    "print(''.join(list(reversed(cadena3))))"
   ]
  },
  {
   "cell_type": "markdown",
   "metadata": {},
   "source": [
    "4. Calcular el promedio de una lista de números.\n",
    "\n",
    "* Descripción: Crea una función llamada `calcular_promedio` que tome una lista de números como parámetro y devuelva el promedio de todos sus elementos."
   ]
  },
  {
   "cell_type": "code",
   "execution_count": 23,
   "metadata": {},
   "outputs": [
    {
     "name": "stdout",
     "output_type": "stream",
     "text": [
      "18.5\n"
     ]
    }
   ],
   "source": [
    "\n",
    "def calcular_promedio(lista_num):\n",
    "\n",
    "    suma = 0\n",
    "\n",
    "    #for num in lista_num:\n",
    "    #    suma += num\n",
    "    \n",
    "    suma = sum(lista_num)\n",
    "    \n",
    "    promedio = suma / len(lista_num)\n",
    "\n",
    "    return promedio\n",
    "\n",
    "resultado_promedio = calcular_promedio([1,9,12,52])\n",
    "print(resultado_promedio)"
   ]
  },
  {
   "cell_type": "code",
   "execution_count": 7,
   "metadata": {},
   "outputs": [
    {
     "name": "stdout",
     "output_type": "stream",
     "text": [
      "18.5\n"
     ]
    }
   ],
   "source": [
    "# funcion mean() también es para promedio\n",
    "# probar con try y except, para contemplar casos como que si la lista está vacia len(lista_num) == 0, return 0\n",
    "\n",
    "# importo modulo de estadistica para utilizar la función mean() que da el promedio\n",
    "import statistics\n",
    "\n",
    "def calcular_promedio2(lista_num2):\n",
    "\n",
    "    try:\n",
    "        promedio2 = statistics.mean(lista_num2)\n",
    "        return promedio2\n",
    "    except:\n",
    "        if len(lista_num2) == 0:\n",
    "            return 0\n",
    "\n",
    "resultado_promedio2 = calcular_promedio2([1,9,12,52])\n",
    "print(resultado_promedio2)"
   ]
  },
  {
   "cell_type": "code",
   "execution_count": 8,
   "metadata": {},
   "outputs": [
    {
     "name": "stdout",
     "output_type": "stream",
     "text": [
      "0\n"
     ]
    }
   ],
   "source": [
    "# compruebo que si la lista está vacía me devuelve 0\n",
    "resultado_promedio3 = calcular_promedio2([])\n",
    "print(resultado_promedio3)"
   ]
  },
  {
   "cell_type": "markdown",
   "metadata": {},
   "source": [
    "5. Calcular el interés compuesto.\n",
    "\n",
    "* Descripción: Crea una función llamada `calcular_interes_compuesto` que tome el capital inicial, la tasa de interés y el número de períodos como parámetros y devuelva el beneficio final después del interés compuesto."
   ]
  },
  {
   "cell_type": "code",
   "execution_count": null,
   "metadata": {},
   "outputs": [],
   "source": [
    "# FV = P * (((1 + ((r / 100.0) / n)) ** (n * y)))\n",
    "\n",
    "# beneficio final = capital inicial * ( 1 + interés/100) ^ numero de periodos\n",
    "\n",
    "def calcular_interes_compuesto(capital_i, interes, periodos):\n",
    "    \n",
    "    beneficio_f = capital_i * ((1 + interes) ** periodos)\n",
    "\n",
    "    return beneficio_f\n",
    "\n",
    "resultado_interes_compuesto = calcular_interes_compuesto(10000,0.05,12)\n",
    "\n",
    "print(resultado_interes_compuesto)\n",
    "\n",
    "# la formula puede que sea más compleja, habría que revisarlo"
   ]
  },
  {
   "cell_type": "markdown",
   "metadata": {},
   "source": [
    "Mirar aquí otras soluciones: https://www.delftstack.com/es/howto/python/python-compound-interest/"
   ]
  },
  {
   "cell_type": "markdown",
   "metadata": {},
   "source": [
    "6. Validar si una palabra es un anagrama de otra.\n",
    "\n",
    "* Descripción: Crea una función llamada `es_anagrama` que tome dos palabras como parámetros y devuelva `True` si una es un anagrama de la otra, o `False` si no lo es.\n",
    "\n",
    "* ¿Qué es un anagrama?. https://dle.rae.es/anagrama"
   ]
  },
  {
   "cell_type": "code",
   "execution_count": 20,
   "metadata": {},
   "outputs": [
    {
     "name": "stdout",
     "output_type": "stream",
     "text": [
      "True\n"
     ]
    }
   ],
   "source": [
    "def es_anagrama(palabra1, palabra2):\n",
    "    \n",
    "    palabra_1 = list(palabra1)\n",
    "    palabra_2 = list(palabra2)\n",
    "    \n",
    "    palabra_1.sort() # ordena\n",
    "    palabra_2.sort()\n",
    "    \n",
    "    palabra_ordenada1 = \"\".join(palabra_1) # aunque se podría prescindir de join y comparar directamente las listas\n",
    "    palabra_ordenada2 = \"\".join(palabra_2)\n",
    "    \n",
    "    if palabra_ordenada1 == palabra_ordenada2:\n",
    "        return True\n",
    "    \n",
    "    else:\n",
    "        return False\n",
    "\n",
    "\n",
    "anagrama = es_anagrama('roma', 'amor')\n",
    "print(anagrama)"
   ]
  },
  {
   "cell_type": "markdown",
   "metadata": {},
   "source": [
    "7. Validar si una cadena de texto es un isograma.\n",
    "\n",
    "* Descripción: Crea una función llamada `es_isograma` que tome una cadena de texto como parámetro y devuelva `True` si es un isograma. En caso contrario, devuelve `False`.\n",
    "\n",
    "* ¿Qué es un isograma? Una palabra que no contiene letras repetidas."
   ]
  },
  {
   "cell_type": "code",
   "execution_count": 77,
   "metadata": {},
   "outputs": [
    {
     "name": "stdout",
     "output_type": "stream",
     "text": [
      "False\n"
     ]
    }
   ],
   "source": [
    "def es_isograma(cadena):\n",
    "    lista_letras = []\n",
    "    \n",
    "    for letra in cadena:\n",
    "        if letra not in lista_letras: # Sino esta la letra, la agrego en la lista, y si ya esta devulve que no es un isograma\n",
    "            lista_letras.append(letra)\n",
    "        else:\n",
    "            return False\n",
    "\n",
    "    return True\n",
    "        \n",
    "isograma1 = es_isograma('casa')\n",
    "print(isograma1)\n"
   ]
  },
  {
   "cell_type": "code",
   "execution_count": 1,
   "metadata": {},
   "outputs": [
    {
     "name": "stdout",
     "output_type": "stream",
     "text": [
      "False\n"
     ]
    }
   ],
   "source": [
    "# Otra forma sería usando .count() y verificando que solo aparece 1 vez la letra\n",
    "\n",
    "def es_isograma(cadena4):\n",
    "\n",
    "    for letra4 in cadena4:\n",
    "        if cadena4.count(letra4) == 1:\n",
    "            isograma = True\n",
    "        else:\n",
    "            isograma = False\n",
    "\n",
    "    return isograma\n",
    "\n",
    "resultado_isograma = es_isograma('casa')\n",
    "print(resultado_isograma)"
   ]
  },
  {
   "cell_type": "markdown",
   "metadata": {},
   "source": [
    "8. Concatenar múltiples cadenas de texto\n",
    "\n",
    "* Descripción: Crea una función llamada `concatenar_cadenas` que tome una cantidad variable de cadenas de texto como argumentos y devuelva una única cadena que contenga la concatenación de todas las cadenas ingresadas."
   ]
  },
  {
   "cell_type": "code",
   "execution_count": 117,
   "metadata": {},
   "outputs": [
    {
     "name": "stdout",
     "output_type": "stream",
     "text": [
      "fresaverdetetero\n"
     ]
    }
   ],
   "source": [
    "def concatenar_cadenas(*args):\n",
    "    return ''.join(args)\n",
    "\n",
    "frutas = 'fresa'\n",
    "color = 'verde'\n",
    "cosas = 'tetero'\n",
    " \n",
    "concatenar = concatenar_cadenas(frutas, color, cosas,)\n",
    "print(concatenar)"
   ]
  },
  {
   "cell_type": "code",
   "execution_count": null,
   "metadata": {},
   "outputs": [],
   "source": [
    "# Otra forma podría ser ir sumando los strings en una variable\n",
    "\n",
    "def concatenar_cadenas(*args):\n",
    "\n",
    "    cadena_final =''\n",
    "    \n",
    "    for cadena5 in args:\n",
    "        cadena_final += cadena5\n",
    "\n",
    "    return cadena_final\n",
    "\n",
    "resultado_concatenar_cadenar = concatenar_cadenas('hola','que','tal')\n",
    "print(resultado_concatenar_cadenar)"
   ]
  },
  {
   "cell_type": "markdown",
   "metadata": {},
   "source": [
    "9. Crear un diccionario con información de una persona.\n",
    "\n",
    "* Descripción: Crea una función llamada `crear_persona` que tome como argumentos clave-valor los datos de una persona, como nombre, edad, ciudad, etc., y devuelva un diccionario con toda la información ingresada."
   ]
  },
  {
   "cell_type": "code",
   "execution_count": 94,
   "metadata": {},
   "outputs": [
    {
     "name": "stdout",
     "output_type": "stream",
     "text": [
      "{'nombre': 'monica', 'edad': 34, 'ciudad': 'barcelona', 'otro': {}}\n",
      "{'nombre': 'toni', 'edad': 24, 'ciudad': 'badalona', 'otro': {'mail': 'samanna@gmail.com', 'mascota': 'perro'}}\n"
     ]
    }
   ],
   "source": [
    "def crear_persona(nombre, edad, ciudad, **kwargs):\n",
    "    informacion = {}\n",
    "    informacion.update({'nombre':nombre, 'edad': edad, 'ciudad': ciudad, 'otro': kwargs})\n",
    "    return informacion\n",
    "\n",
    "monica = crear_persona('monica', 34, 'barcelona')\n",
    "toni = crear_persona('toni', 24, 'badalona', mail = 'samanna@gmail.com', mascota = 'perro')\n",
    "\n",
    "print(monica)\n",
    "print(toni)"
   ]
  },
  {
   "cell_type": "code",
   "execution_count": 5,
   "metadata": {},
   "outputs": [
    {
     "name": "stdout",
     "output_type": "stream",
     "text": [
      "{'nombre': 'Pepe', 'primer_apellido': 'Gonzalez', 'segundo_apellido': 'Fernandez', 'profesion': 'carpintero', 'hobbies': 'pintar'}\n"
     ]
    }
   ],
   "source": [
    "# Solo con kwargs\n",
    "\n",
    "def crear_persona(**kwargs):\n",
    "\n",
    "    datos_persona = {}\n",
    "\n",
    "    for clave, valor in kwargs.items():\n",
    "        datos_persona[clave] = valor\n",
    "    \n",
    "    return datos_persona\n",
    "\n",
    "datos_persona = crear_persona(nombre = 'Pepe', primer_apellido = 'Gonzalez', segundo_apellido = 'Fernandez', profesion = 'carpintero', hobbies = 'pintar')\n",
    "print(datos_persona)"
   ]
  },
  {
   "cell_type": "code",
   "execution_count": 6,
   "metadata": {},
   "outputs": [
    {
     "data": {
      "text/plain": [
       "{'nombre': 'Pepe',\n",
       " 'primer_apellido': 'Gonzalez',\n",
       " 'segundo_apellido': 'Fernandez'}"
      ]
     },
     "execution_count": 6,
     "metadata": {},
     "output_type": "execute_result"
    }
   ],
   "source": [
    "# ya te devuelve un diccionario, entonces se podría hacer de una forma mas sencilla:\n",
    "\n",
    "def crear_persona2(**kwargs):\n",
    "    return kwargs\n",
    "\n",
    "crear_persona(nombre = 'Pepe', primer_apellido = 'Gonzalez', segundo_apellido = 'Fernandez')"
   ]
  },
  {
   "cell_type": "markdown",
   "metadata": {},
   "source": [
    "10. Encontrar el número que falta en una lista ordenada de números consecutivos.\n",
    "\n",
    "* Descripción: Crea una función llamada `encontrar_numero_faltante` que tome una lista de números consecutivos (del 1 al N, sin repetir) con un número faltante y devuelva ese número faltante."
   ]
  },
  {
   "cell_type": "code",
   "execution_count": 3,
   "metadata": {},
   "outputs": [
    {
     "name": "stdout",
     "output_type": "stream",
     "text": [
      "6\n",
      "9\n"
     ]
    }
   ],
   "source": [
    "lista = [1, 2, 3, 4, 5, 6, 7, 8, 10]\n",
    "\n",
    "lista_pares = [2, 4, 8, 10]\n",
    "\n",
    "def encontrar_numero_faltante(numeros):\n",
    "    incremento = numeros[1] - numeros[0] # resta la posición 1 al 0, quiere decur alreves, para saber la diferencia\n",
    "    control = 0 # empieza de cero, que subira segun el incremento\n",
    "    \n",
    "    for num in numeros:\n",
    "        control += incremento\n",
    "        if num != control: # aqui verifica si al incrementar no esta ese valor incrementado no coincide con el numero, eso quire decir que ese numero no esta en el orden correcto\n",
    "            return control\n",
    "\n",
    "        \n",
    "lista1 = encontrar_numero_faltante(lista_pares)\n",
    "lista2 = encontrar_numero_faltante(lista)\n",
    "\n",
    "print(lista1)\n",
    "print(lista2)"
   ]
  },
  {
   "cell_type": "code",
   "execution_count": 3,
   "metadata": {},
   "outputs": [
    {
     "name": "stdout",
     "output_type": "stream",
     "text": [
      "4\n"
     ]
    }
   ],
   "source": [
    "# Otra forma de hacerlo sería recorriendo con for desde el 1 hasta la longitud de la lista\n",
    "# y comprobar si el número que se está recorriendo no está en la lista dada\n",
    "\n",
    "lista_num1 = [1, 2, 3, 5, 6, 7, 8, 9, 10]\n",
    "\n",
    "def encontrar_numero_faltante(lista10):\n",
    "\n",
    "    for num10 in range (1, len(lista10) + 1):\n",
    "\n",
    "        if num10 not in lista10:\n",
    "            falta = num10\n",
    "        else:\n",
    "            pass\n",
    "\n",
    "    return falta\n",
    "\n",
    "resultado_faltante = encontrar_numero_faltante(lista_num1)\n",
    "print(resultado_faltante)"
   ]
  },
  {
   "cell_type": "markdown",
   "metadata": {},
   "source": [
    "11. Encontrar el elemento duplicado en una lista de números.\n",
    "\n",
    "* Descripción: Crea una función llamada `encontrar_duplicado` que tome una lista de números enteros y devuelva el elemento que está duplicado en la lista."
   ]
  },
  {
   "cell_type": "code",
   "execution_count": 56,
   "metadata": {},
   "outputs": [
    {
     "name": "stdout",
     "output_type": "stream",
     "text": [
      "6\n"
     ]
    }
   ],
   "source": [
    "enteros = [2, 3, 4, 6, 9, 5, 6, 3]\n",
    "\n",
    "def encontrar_duplicado(enteros):\n",
    "    duplicados = []\n",
    "    \n",
    "    for numero in enteros:\n",
    "        if numero in duplicados:\n",
    "            return numero\n",
    "        else:\n",
    "            duplicados.append(numero)\n",
    "\n",
    "numeros_duplicados = encontrar_duplicado(enteros)\n",
    "print(numeros_duplicados)"
   ]
  },
  {
   "cell_type": "code",
   "execution_count": 2,
   "metadata": {},
   "outputs": [
    {
     "name": "stdout",
     "output_type": "stream",
     "text": [
      "2\n"
     ]
    }
   ],
   "source": [
    "# Otra forma podría ser comprobando si la letra aparece más de una vez usando .count\n",
    "\n",
    "lista_num2 = [1, 2, 2, 3, 4]\n",
    "\n",
    "def encontrar_duplicado(lista11):\n",
    "\n",
    "    for num11 in lista11:\n",
    "        if lista11.count(num11) > 1:\n",
    "            duplicado = num11\n",
    "        else:\n",
    "            pass\n",
    "    return duplicado\n",
    "\n",
    "resultado_duplicado = encontrar_duplicado(lista_num2)\n",
    "print(resultado_duplicado)"
   ]
  }
 ],
 "metadata": {
  "kernelspec": {
   "display_name": "Python 3",
   "language": "python",
   "name": "python3"
  },
  "language_info": {
   "codemirror_mode": {
    "name": "ipython",
    "version": 3
   },
   "file_extension": ".py",
   "mimetype": "text/x-python",
   "name": "python",
   "nbconvert_exporter": "python",
   "pygments_lexer": "ipython3",
   "version": "3.6.9"
  }
 },
 "nbformat": 4,
 "nbformat_minor": 2
}
