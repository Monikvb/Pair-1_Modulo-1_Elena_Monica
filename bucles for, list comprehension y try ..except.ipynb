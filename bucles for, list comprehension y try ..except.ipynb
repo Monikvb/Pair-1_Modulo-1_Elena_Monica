{
 "cells": [
  {
   "cell_type": "markdown",
   "metadata": {},
   "source": [
    "### Ejericios bucles for"
   ]
  },
  {
   "cell_type": "markdown",
   "metadata": {},
   "source": [
    "1.Imprimir los números del 1 al 5 utilizando un bucle for\n",
    "* Descripción: Utiliza un bucle for para imprimir los números del 1 al 5 (incluido) en orden ascendente.\n"
   ]
  },
  {
   "cell_type": "code",
   "execution_count": 2,
   "metadata": {},
   "outputs": [
    {
     "name": "stdout",
     "output_type": "stream",
     "text": [
      "1\n",
      "2\n",
      "3\n",
      "4\n",
      "5\n"
     ]
    }
   ],
   "source": [
    "\n",
    "for num in range(1, 6):\n",
    "    print(num)"
   ]
  },
  {
   "cell_type": "markdown",
   "metadata": {},
   "source": [
    "2.Calcular la suma de los primeros 10 números naturales utilizando un bucle for\n",
    "* Descripción: Utiliza un bucle for para calcular la suma de los primeros 10 números naturales (1 + 2 + 3 + ... + 10)."
   ]
  },
  {
   "cell_type": "code",
   "execution_count": 3,
   "metadata": {},
   "outputs": [
    {
     "name": "stdout",
     "output_type": "stream",
     "text": [
      "estamos intereando en 1\n",
      "estamos intereando en 2\n",
      "estamos intereando en 3\n",
      "estamos intereando en 4\n",
      "estamos intereando en 5\n",
      "estamos intereando en 6\n",
      "estamos intereando en 7\n",
      "estamos intereando en 8\n",
      "estamos intereando en 9\n",
      "estamos intereando en 10\n",
      "55\n"
     ]
    }
   ],
   "source": [
    "suma = 0\n",
    "\n",
    "for numero1 in range(1, 11):\n",
    "    suma += numero1\n",
    "    print(f'estamos intereando en {numero1}')\n",
    "print(suma)"
   ]
  },
  {
   "cell_type": "code",
   "execution_count": 13,
   "metadata": {},
   "outputs": [
    {
     "name": "stdout",
     "output_type": "stream",
     "text": [
      "Estamos interand en 1\n",
      "Estamos interand en 3\n",
      "Estamos interand en 6\n",
      "Estamos interand en 10\n",
      "Estamos interand en 15\n",
      "Estamos interand en 21\n",
      "Estamos interand en 28\n",
      "Estamos interand en 36\n",
      "Estamos interand en 45\n",
      "Estamos interand en 55\n",
      "55\n"
     ]
    }
   ],
   "source": [
    "numeros = [1, 2, 3, 4, 5, 6, 7, 8, 9, 10]\n",
    "num_suma = []\n",
    "total = 0\n",
    "\n",
    "for numero1 in numeros:\n",
    "    \n",
    "    total += numero1\n",
    "    print(f\"Estamos interand en {total}\")\n",
    "    \n",
    "    num_suma.append(total)\n",
    "    \n",
    "    #print(total)\n",
    "    \n",
    "print(total)"
   ]
  },
  {
   "cell_type": "markdown",
   "metadata": {},
   "source": [
    "3.Calcular el producto de los elementos de una lista\n",
    "* Descripción: Dada una lista de números, utiliza un bucle for para calcular el producto de todos los elementos."
   ]
  },
  {
   "cell_type": "code",
   "execution_count": 9,
   "metadata": {},
   "outputs": [
    {
     "name": "stdout",
     "output_type": "stream",
     "text": [
      "el producto ahora es: 1\n",
      "el producto ahora es: 1\n",
      "el producto ahora es: 2\n",
      "el producto ahora es: 6\n",
      "el producto ahora es: 24\n",
      "el producto ahora es: 120\n",
      "el producto ahora es: 720\n",
      "el producto ahora es: 5040\n",
      "el producto ahora es: 40320\n",
      "el producto ahora es: 362880\n",
      "el resultado es  3628800\n"
     ]
    }
   ],
   "source": [
    "numeros = [1, 2, 3, 4, 5, 6, 7, 8, 9, 10]\n",
    "producto = 1\n",
    "\n",
    "for numero2 in numeros:\n",
    "    print(f'el producto ahora es: {producto}')\n",
    "    producto = producto * numero2\n",
    "    #print(f\"Estamos interand en {numero2}\")\n",
    "    \n",
    "print('el resultado es ', producto)"
   ]
  },
  {
   "cell_type": "markdown",
   "metadata": {},
   "source": [
    "\n",
    "4.Imprimir los caracteres de una cadena de texto\n",
    "* Descripción: Dada una cadena de texto, utiliza un bucle for para imprimir cada carácter en una línea separada.\n"
   ]
  },
  {
   "cell_type": "code",
   "execution_count": 11,
   "metadata": {},
   "outputs": [
    {
     "name": "stdout",
     "output_type": "stream",
     "text": [
      "e\n",
      "l\n",
      "e\n",
      "m\n",
      "o\n",
      "n\n"
     ]
    }
   ],
   "source": [
    "cadena = 'elemon'\n",
    "\n",
    "for letra in cadena:\n",
    "    print(letra)"
   ]
  },
  {
   "cell_type": "markdown",
   "metadata": {},
   "source": [
    "5.Imprimir los números pares del 1 al 100 utilizando un bucle for\n",
    "* Descripción: Utiliza un bucle for para imprimir los números pares del 1 al 100 en orden ascendente."
   ]
  },
  {
   "cell_type": "code",
   "execution_count": 12,
   "metadata": {},
   "outputs": [
    {
     "name": "stdout",
     "output_type": "stream",
     "text": [
      "estos son pares 2\n",
      "estos son pares 4\n",
      "estos son pares 6\n",
      "estos son pares 8\n",
      "estos son pares 10\n",
      "estos son pares 12\n",
      "estos son pares 14\n",
      "estos son pares 16\n",
      "estos son pares 18\n",
      "estos son pares 20\n",
      "estos son pares 22\n",
      "estos son pares 24\n",
      "estos son pares 26\n",
      "estos son pares 28\n",
      "estos son pares 30\n",
      "estos son pares 32\n",
      "estos son pares 34\n",
      "estos son pares 36\n",
      "estos son pares 38\n",
      "estos son pares 40\n",
      "estos son pares 42\n",
      "estos son pares 44\n",
      "estos son pares 46\n",
      "estos son pares 48\n",
      "estos son pares 50\n",
      "estos son pares 52\n",
      "estos son pares 54\n",
      "estos son pares 56\n",
      "estos son pares 58\n",
      "estos son pares 60\n",
      "estos son pares 62\n",
      "estos son pares 64\n",
      "estos son pares 66\n",
      "estos son pares 68\n",
      "estos son pares 70\n",
      "estos son pares 72\n",
      "estos son pares 74\n",
      "estos son pares 76\n",
      "estos son pares 78\n",
      "estos son pares 80\n",
      "estos son pares 82\n",
      "estos son pares 84\n",
      "estos son pares 86\n",
      "estos son pares 88\n",
      "estos son pares 90\n",
      "estos son pares 92\n",
      "estos son pares 94\n",
      "estos son pares 96\n",
      "estos son pares 98\n",
      "estos son pares 100\n"
     ]
    }
   ],
   "source": [
    "\n",
    "for numero3 in range(1, 101):\n",
    "    if numero3 % 2 == 0:\n",
    "        print(f'estos son pares {numero3}')\n"
   ]
  },
  {
   "cell_type": "markdown",
   "metadata": {},
   "source": [
    "6.Imprimir los números primos del 1 al 50 utilizando un bucle for\n",
    "* Descripción: Utiliza un bucle for para imprimir los números primos del 1 al 50 en orden ascendente.\n",
    "* NOTA: Según la Wikipedia, un número primo es un número natural mayor que 1 que no tiene divisores positivos más que 1 y él mismo."
   ]
  },
  {
   "cell_type": "code",
   "execution_count": null,
   "metadata": {},
   "outputs": [],
   "source": [
    "for numero4 in range(1, 50):\n",
    "    if numero4 > 1:\n",
    "        numero4 % 2 == 0 \n",
    "        \n",
    "        \n",
    "        print(f'estos son pares {numero4}')\n",
    "        \n",
    "# Pending "
   ]
  },
  {
   "cell_type": "markdown",
   "metadata": {},
   "source": [
    "7. Calcular el factorial de un número utilizando un bucle for\n",
    "* Descripción: Dado un número entero positivo, calcula su factorial utilizando un bucle for."
   ]
  },
  {
   "cell_type": "code",
   "execution_count": null,
   "metadata": {},
   "outputs": [],
   "source": [
    "# la multiplicación  de 1 2 3 4 5 .... "
   ]
  },
  {
   "cell_type": "markdown",
   "metadata": {},
   "source": [
    "\n",
    "8. Juego de adivinar palabras utilizando un bucle for\n",
    "* Descripción: Crea un juego en el que el jugador debe adivinar una palabra secreta. El jugador tiene un número limitado de intentos y se le proporcionan pistas después de cada intento. Utiliza un bucle for para controlar los intentos del jugador."
   ]
  },
  {
   "cell_type": "markdown",
   "metadata": {},
   "source": [
    "### Ejercicios list comprehension\n",
    "1.Generar una lista de los números pares del 1 al 20.\n",
    "* Descripción: Utiliza list comprehension para generar una lista que contenga todos los números pares en el rango del 1 al 20.\n",
    "\n",
    "2.Obtener una lista de las vocales en una cadena de texto.\n",
    "* Descripción: Utiliza list comprehension para crear una lista que contenga todas las vocales presentes en una cadena de texto (sin repetición).\n",
    "\n",
    "3.Filtrar los números positivos de una lista y calcular su cuadrado.\n",
    "* Descripción: Utiliza list comprehension para filtrar los números positivos de una lista y calcular el cuadrado de cada uno."
   ]
  },
  {
   "cell_type": "markdown",
   "metadata": {},
   "source": [
    "### Ejercicios try ...except\n",
    "\n",
    "1.Realizar una búsqueda en una lista y capturar una excepción en caso de valor no encontrado.\n",
    "* Descripción: Solicita al usuario una lista de nombres y un nombre para buscar en la lista. Intenta encontrar el nombre en la lista y utiliza las sentencias try y except para capturar la excepción en caso de que el nombre no sea encontrado."
   ]
  }
 ],
 "metadata": {
  "kernelspec": {
   "display_name": "Python 3",
   "language": "python",
   "name": "python3"
  },
  "language_info": {
   "codemirror_mode": {
    "name": "ipython",
    "version": 3
   },
   "file_extension": ".py",
   "mimetype": "text/x-python",
   "name": "python",
   "nbconvert_exporter": "python",
   "pygments_lexer": "ipython3",
   "version": "3.11.5"
  }
 },
 "nbformat": 4,
 "nbformat_minor": 2
}
