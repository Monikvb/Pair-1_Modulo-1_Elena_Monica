{
 "cells": [
  {
   "cell_type": "markdown",
   "metadata": {},
   "source": [
    "### Ejericios bucles for"
   ]
  },
  {
   "cell_type": "markdown",
   "metadata": {},
   "source": [
    "1.Imprimir los números del 1 al 5 utilizando un bucle for\n",
    "* Descripción: Utiliza un bucle for para imprimir los números del 1 al 5 (incluido) en orden ascendente.\n"
   ]
  },
  {
   "cell_type": "code",
   "execution_count": null,
   "metadata": {},
   "outputs": [],
   "source": [
    "\n",
    "for num in range(1, 6):\n",
    "    print(num)"
   ]
  },
  {
   "cell_type": "markdown",
   "metadata": {},
   "source": [
    "2.Calcular la suma de los primeros 10 números naturales utilizando un bucle for\n",
    "* Descripción: Utiliza un bucle for para calcular la suma de los primeros 10 números naturales (1 + 2 + 3 + ... + 10)."
   ]
  },
  {
   "cell_type": "code",
   "execution_count": null,
   "metadata": {},
   "outputs": [],
   "source": [
    "suma = 0\n",
    "\n",
    "for numero1 in range(1, 11):\n",
    "    suma += numero1\n",
    "    print(f'estamos intereando en {numero1}')\n",
    "print(suma)"
   ]
  },
  {
   "cell_type": "code",
   "execution_count": null,
   "metadata": {},
   "outputs": [],
   "source": [
    "numeros = [1, 2, 3, 4, 5, 6, 7, 8, 9, 10]\n",
    "num_suma = []\n",
    "total = 0\n",
    "\n",
    "for numero1 in numeros:\n",
    "    \n",
    "    total += numero1\n",
    "    print(f\"Estamos interand en {total}\")\n",
    "    \n",
    "    num_suma.append(total)\n",
    "    \n",
    "    #print(total)\n",
    "    \n",
    "print(total)"
   ]
  },
  {
   "cell_type": "markdown",
   "metadata": {},
   "source": [
    "3.Calcular el producto de los elementos de una lista\n",
    "* Descripción: Dada una lista de números, utiliza un bucle for para calcular el producto de todos los elementos."
   ]
  },
  {
   "cell_type": "code",
   "execution_count": null,
   "metadata": {},
   "outputs": [],
   "source": [
    "numeros = [1, 2, 3, 4, 5, 6, 7, 8, 9, 10]\n",
    "producto = 1\n",
    "\n",
    "for numero2 in numeros:\n",
    "    print(f'el producto ahora es: {producto}')\n",
    "    producto = producto * numero2\n",
    "    #print(f\"Estamos interand en {numero2}\")\n",
    "    \n",
    "print('el resultado es ', producto)"
   ]
  },
  {
   "cell_type": "markdown",
   "metadata": {},
   "source": [
    "\n",
    "4.Imprimir los caracteres de una cadena de texto\n",
    "* Descripción: Dada una cadena de texto, utiliza un bucle for para imprimir cada carácter en una línea separada.\n"
   ]
  },
  {
   "cell_type": "code",
   "execution_count": null,
   "metadata": {},
   "outputs": [],
   "source": [
    "cadena = 'elemon'\n",
    "\n",
    "for letra in cadena:\n",
    "    print(letra)"
   ]
  },
  {
   "cell_type": "markdown",
   "metadata": {},
   "source": [
    "5.Imprimir los números pares del 1 al 100 utilizando un bucle for\n",
    "* Descripción: Utiliza un bucle for para imprimir los números pares del 1 al 100 en orden ascendente."
   ]
  },
  {
   "cell_type": "code",
   "execution_count": null,
   "metadata": {},
   "outputs": [],
   "source": [
    "for numero3 in range(1, 101):\n",
    "    if numero3 % 2 == 0:\n",
    "        print(f'estos son pares {numero3}')"
   ]
  },
  {
   "cell_type": "markdown",
   "metadata": {},
   "source": [
    "6.Imprimir los números primos del 1 al 50 utilizando un bucle for\n",
    "* Descripción: Utiliza un bucle for para imprimir los números primos del 1 al 50 en orden ascendente.\n",
    "* NOTA: Según la Wikipedia, un número primo es un número natural mayor que 1 que no tiene divisores positivos más que 1 y él mismo."
   ]
  },
  {
   "cell_type": "code",
   "execution_count": null,
   "metadata": {},
   "outputs": [],
   "source": [
    "# FALTA RESOLVER\n",
    "\n",
    "for numero4 in range(1, 50):\n",
    "    if numero4 > 1:\n",
    "        numero4 % 2 == 0 \n",
    "        \n",
    "        \n",
    "        print(f'estos son pares {numero4}')"
   ]
  },
  {
   "cell_type": "markdown",
   "metadata": {},
   "source": [
    "7. Calcular el factorial de un número utilizando un bucle for\n",
    "* Descripción: Dado un número entero positivo, calcula su factorial utilizando un bucle for."
   ]
  },
  {
   "cell_type": "code",
   "execution_count": null,
   "metadata": {},
   "outputs": [],
   "source": [
    "# Factorial de un numero (en este caso 15) es igual a multiplicar del 1 al 15\n",
    "producto = 1\n",
    "\n",
    "for numero5 in range(1,16):\n",
    "    print(f'estoy iterando el numero: {numero5}')\n",
    "    producto = producto * numero5\n",
    "    \n",
    "print('el factorial de 15 es ', producto)"
   ]
  },
  {
   "cell_type": "markdown",
   "metadata": {},
   "source": [
    "\n",
    "8. Juego de adivinar palabras utilizando un bucle for\n",
    "* Descripción: Crea un juego en el que el jugador debe adivinar una palabra secreta. El jugador tiene un número limitado de intentos y se le proporcionan pistas después de cada intento. Utiliza un bucle for para controlar los intentos del jugador."
   ]
  },
  {
   "cell_type": "code",
   "execution_count": 13,
   "metadata": {},
   "outputs": [
    {
     "name": "stdout",
     "output_type": "stream",
     "text": [
      "Es una fruta ácida y amarilla. Te quedan 4 intentos.\n",
      "Es una fruta ácida y amarilla. Te quedan 3 intentos.\n",
      "Es una fruta ácida y amarilla. Te quedan 2 intentos.\n",
      "Es una fruta ácida y amarilla. Te quedan 1 intentos.\n",
      "Es una fruta ácida y amarilla. Te quedan 0 intentos.\n",
      "Has perdido\n"
     ]
    }
   ],
   "source": [
    "palabra_secreta = 'limon'\n",
    "\n",
    "palabra_usuario = input('Introduce una palabra: ').lower()\n",
    "\n",
    "contador = 6\n",
    "\n",
    "for intentos in range(1,6):\n",
    "\n",
    "    contador -= 1\n",
    "\n",
    "    if palabra_usuario == palabra_secreta:\n",
    "        print('Has adivinado.')\n",
    "        break\n",
    "    else:\n",
    "        print(f'Es una fruta ácida y amarilla. Te quedan {contador} intentos.')\n",
    "        palabra_usuario = input('Introduce una palabra: ')\n",
    "\n",
    "    if intentos == 5:\n",
    "        print('Has perdido')"
   ]
  },
  {
   "cell_type": "markdown",
   "metadata": {},
   "source": [
    "### Ejercicios list comprehension"
   ]
  },
  {
   "cell_type": "markdown",
   "metadata": {},
   "source": [
    "1.Generar una lista de los números pares del 1 al 20.\n",
    "* Descripción: Utiliza list comprehension para generar una lista que contenga todos los números pares en el rango del 1 al 20."
   ]
  },
  {
   "cell_type": "code",
   "execution_count": 15,
   "metadata": {},
   "outputs": [
    {
     "name": "stdout",
     "output_type": "stream",
     "text": [
      "[2, 4, 6, 8, 10, 12, 14, 16, 18, 20]\n"
     ]
    }
   ],
   "source": [
    "lista_pares = []\n",
    "\n",
    "for numero6 in range(1, 21):\n",
    "    if numero6 % 2 == 0:\n",
    "        lista_pares.append(numero6)\n",
    "\n",
    "print(lista_pares)"
   ]
  },
  {
   "cell_type": "code",
   "execution_count": 18,
   "metadata": {},
   "outputs": [
    {
     "name": "stdout",
     "output_type": "stream",
     "text": [
      "[2, 4, 6, 8, 10, 12, 14, 16, 18, 20]\n"
     ]
    }
   ],
   "source": [
    "# Con list comprehension\n",
    "\n",
    "lista_pares = [numero6 for numero6 in range(1, 21) if numero6 % 2 == 0]\n",
    "print(lista_pares)"
   ]
  },
  {
   "cell_type": "code",
   "execution_count": null,
   "metadata": {},
   "outputs": [],
   "source": [
    "# hacemos el range del 1 al 20 y que luego guarde en la lista con los pares"
   ]
  },
  {
   "cell_type": "markdown",
   "metadata": {},
   "source": [
    "2.Obtener una lista de las vocales en una cadena de texto.\n",
    "* Descripción: Utiliza list comprehension para crear una lista que contenga todas las vocales presentes en una cadena de texto (sin repetición).\n"
   ]
  },
  {
   "cell_type": "code",
   "execution_count": 24,
   "metadata": {},
   "outputs": [
    {
     "name": "stdout",
     "output_type": "stream",
     "text": [
      "{'i', 'e', 'a'}\n"
     ]
    }
   ],
   "source": [
    "palabra = 'aritmetica'\n",
    "vocales = ['a', 'e', 'i', 'o', 'u']\n",
    "\n",
    "lista_vocales = []\n",
    "\n",
    "for letra in palabra:\n",
    "    if letra in vocales:\n",
    "        lista_vocales.append(letra)\n",
    "\n",
    "print(set(lista_vocales))\n"
   ]
  },
  {
   "cell_type": "code",
   "execution_count": 25,
   "metadata": {},
   "outputs": [
    {
     "name": "stdout",
     "output_type": "stream",
     "text": [
      "{'i', 'e', 'a'}\n"
     ]
    }
   ],
   "source": [
    "# List comprehension\n",
    "\n",
    "lista_vocales = [letra for letra in palabra if letra in vocales]\n",
    "\n",
    "print(set(lista_vocales))"
   ]
  },
  {
   "cell_type": "markdown",
   "metadata": {},
   "source": [
    "3.Filtrar los números positivos de una lista y calcular su cuadrado.\n",
    "* Descripción: Utiliza list comprehension para filtrar los números positivos de una lista y calcular el cuadrado de cada uno."
   ]
  },
  {
   "cell_type": "code",
   "execution_count": 26,
   "metadata": {},
   "outputs": [
    {
     "name": "stdout",
     "output_type": "stream",
     "text": [
      "[81, 49]\n"
     ]
    }
   ],
   "source": [
    "numeros_lista = [-1, -2, 9, -3, 7, -10]\n",
    "\n",
    "cuadrados_lista = []\n",
    "\n",
    "for num in numeros_lista:\n",
    "    if num > 0:\n",
    "        num_cuadrado = num ** 2\n",
    "        cuadrados_lista.append(num_cuadrado)\n",
    "    else:\n",
    "        pass\n",
    "\n",
    "print(cuadrados_lista)\n"
   ]
  },
  {
   "cell_type": "code",
   "execution_count": 27,
   "metadata": {},
   "outputs": [
    {
     "name": "stdout",
     "output_type": "stream",
     "text": [
      "[81, 49]\n"
     ]
    }
   ],
   "source": [
    "# List comprehension\n",
    "\n",
    "cuadrados_lista = [num ** 2 for num in numeros_lista if num > 0]\n",
    "print(cuadrados_lista)"
   ]
  },
  {
   "cell_type": "markdown",
   "metadata": {},
   "source": [
    "### Ejercicios try ...except\n",
    "\n",
    "1.Realizar una búsqueda en una lista y capturar una excepción en caso de valor no encontrado.\n",
    "* Descripción: Solicita al usuario una lista de nombres y un nombre para buscar en la lista. Intenta encontrar el nombre en la lista y utiliza las sentencias try y except para capturar la excepción en caso de que el nombre no sea encontrado."
   ]
  },
  {
   "cell_type": "code",
   "execution_count": null,
   "metadata": {},
   "outputs": [],
   "source": [
    "# FALTA RESOLVER\n",
    "\n",
    "lista_nombres = ['Maria', 'Marina', 'Marta', 'Marcos', 'Miriam']\n",
    "\n",
    "try:\n",
    "    nombre = input('Ingresa un nombre que empiece por la M: ')\n",
    "except:"
   ]
  }
 ],
 "metadata": {
  "kernelspec": {
   "display_name": "Python 3",
   "language": "python",
   "name": "python3"
  },
  "language_info": {
   "codemirror_mode": {
    "name": "ipython",
    "version": 3
   },
   "file_extension": ".py",
   "mimetype": "text/x-python",
   "name": "python",
   "nbconvert_exporter": "python",
   "pygments_lexer": "ipython3",
   "version": "3.11.5"
  }
 },
 "nbformat": 4,
 "nbformat_minor": 2
}
